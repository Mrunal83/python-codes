{
 "cells": [
  {
   "cell_type": "code",
   "execution_count": 1,
   "metadata": {},
   "outputs": [
    {
     "name": "stdout",
     "output_type": "stream",
     "text": [
      "17 28 30\n",
      "99 16 8\n",
      "2 1\n"
     ]
    }
   ],
   "source": [
    "'''\n",
    "question:\n",
    "Alice and Bob each created one problem for HackerRank. A reviewer rates the two challenges, awarding points on a scale from 1 to 100 for three categories: problem clarity, originality, and difficulty.\n",
    "\n",
    "The rating for Alice's challenge is the triplet a = (a[0], a[1], a[2]), and the rating for Bob's challenge is the triplet b = (b[0], b[1], b[2]).\n",
    "\n",
    "The task is to find their comparison points by comparing a[0] with b[0], a[1] with b[1], and a[2] with b[2].\n",
    "\n",
    "If a[i] > b[i], then Alice is awarded 1 point.\n",
    "If a[i] < b[i], then Bob is awarded 1 point.\n",
    "If a[i] = b[i], then neither person receives a point.\n",
    "Comparison points is the total points a person earned.\n",
    "\n",
    "Given a and b, determine their respective comparison points.\n",
    "'''\n",
    "\n",
    "n=3\n",
    "a=0\n",
    "b=0\n",
    "arr1 = list(map(int, input().rstrip().split()))\n",
    "\n",
    "arr2 = list(map(int, input().rstrip().split()))\n",
    "\n",
    "for i in range(3):\n",
    "    if arr1[i]>arr2[i]:\n",
    "        a=a+1\n",
    "    if arr1[i]<arr2[i]:\n",
    "        b=b+1\n",
    "    if arr1[i]==arr2[i]:\n",
    "        a=a+0\n",
    "        b=b+0\n",
    "\n",
    "print(a,b)\n"
   ]
  },
  {
   "cell_type": "code",
   "execution_count": null,
   "metadata": {},
   "outputs": [],
   "source": []
  }
 ],
 "metadata": {
  "kernelspec": {
   "display_name": "Python 3",
   "language": "python",
   "name": "python3"
  },
  "language_info": {
   "codemirror_mode": {
    "name": "ipython",
    "version": 3
   },
   "file_extension": ".py",
   "mimetype": "text/x-python",
   "name": "python",
   "nbconvert_exporter": "python",
   "pygments_lexer": "ipython3",
   "version": "3.8.3"
  }
 },
 "nbformat": 4,
 "nbformat_minor": 4
}
