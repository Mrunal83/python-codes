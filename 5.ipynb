{
 "cells": [
  {
   "cell_type": "code",
   "execution_count": 1,
   "metadata": {},
   "outputs": [
    {
     "name": "stdout",
     "output_type": "stream",
     "text": [
      "3\n",
      "1 2 3\n",
      "4 5 6\n",
      "9 8 9\n",
      "2\n"
     ]
    }
   ],
   "source": [
    "'''\n",
    "question:\n",
    "\n",
    "Given a square matrix, calculate the absolute difference between the sums of its diagonals.\n",
    "\n",
    "'''\n",
    "\n",
    "#code\n",
    "\n",
    "\n",
    "import math\n",
    "import os\n",
    "import random\n",
    "import re\n",
    "import sys\n",
    "\n",
    "#\n",
    "# Complete the 'diagonalDifference' function below.\n",
    "#\n",
    "# The function is expected to return an INTEGER.\n",
    "# The function accepts 2D_INTEGER_ARRAY arr as parameter.\n",
    "#\n",
    "\n",
    "def diagonalDifference(arr):\n",
    "    # Write your code here\n",
    "    a=0\n",
    "    for i in range(n):\n",
    "        for j in range(n):\n",
    "            if (i==j):\n",
    "                a=arr[i][j]+a\n",
    "\n",
    "    b=0\n",
    "    for i in range(n):\n",
    "        for j in range(n):\n",
    "            if (i+j)==n-1:\n",
    "                b=arr[i][j]+b\n",
    "\n",
    "    ans=a-b\n",
    "    ans=abs(ans)\n",
    "    return ans\n",
    "\n",
    "\n",
    "if __name__ == '__main__':\n",
    "  \n",
    "\n",
    "    n = int(input().strip())\n",
    "\n",
    "    arr = []\n",
    "\n",
    "    for _ in range(n):\n",
    "        arr.append(list(map(int, input().rstrip().split())))\n",
    "\n",
    "    result = diagonalDifference(arr)\n",
    "    print(result)\n",
    " \n"
   ]
  },
  {
   "cell_type": "code",
   "execution_count": null,
   "metadata": {},
   "outputs": [],
   "source": []
  }
 ],
 "metadata": {
  "kernelspec": {
   "display_name": "Python 3",
   "language": "python",
   "name": "python3"
  },
  "language_info": {
   "codemirror_mode": {
    "name": "ipython",
    "version": 3
   },
   "file_extension": ".py",
   "mimetype": "text/x-python",
   "name": "python",
   "nbconvert_exporter": "python",
   "pygments_lexer": "ipython3",
   "version": "3.8.3"
  }
 },
 "nbformat": 4,
 "nbformat_minor": 4
}
