{
 "cells": [
  {
   "cell_type": "code",
   "execution_count": 1,
   "metadata": {},
   "outputs": [
    {
     "name": "stdout",
     "output_type": "stream",
     "text": [
      "abcdefg\n",
      "3\n",
      "n\n",
      "abcnefg\n"
     ]
    }
   ],
   "source": [
    "'''\n",
    "question:\n",
    "Read a given string, change the character at a given index and then print the modified string.\n",
    "\n",
    "Input Format\n",
    "The first line contains a string, s .\n",
    "The next line contains an integer i, denoting the index location and a character c separated by a space.\n",
    "\n",
    "Output Format\n",
    "Using any of the methods explained above, replace the character at index i with character c.\n",
    "\n",
    "'''\n",
    "\n",
    "\n",
    "\n",
    "#code\n",
    "def mutate_string(string, position, character):\n",
    "    s=list(string)\n",
    "    s[position]=character\n",
    "    string=''.join(s)\n",
    "\n",
    "    return string\n",
    "\n",
    "if __name__ == '__main__':\n",
    "    s = input()\n",
    "    i = input()\n",
    "    c = input()\n",
    "    s_new = mutate_string(s, int(i), c)\n",
    "    print(s_new)"
   ]
  },
  {
   "cell_type": "code",
   "execution_count": null,
   "metadata": {},
   "outputs": [],
   "source": []
  }
 ],
 "metadata": {
  "kernelspec": {
   "display_name": "Python 3",
   "language": "python",
   "name": "python3"
  },
  "language_info": {
   "codemirror_mode": {
    "name": "ipython",
    "version": 3
   },
   "file_extension": ".py",
   "mimetype": "text/x-python",
   "name": "python",
   "nbconvert_exporter": "python",
   "pygments_lexer": "ipython3",
   "version": "3.8.3"
  }
 },
 "nbformat": 4,
 "nbformat_minor": 4
}
