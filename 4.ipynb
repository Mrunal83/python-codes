{
 "cells": [
  {
   "cell_type": "code",
   "execution_count": 1,
   "metadata": {},
   "outputs": [
    {
     "name": "stdout",
     "output_type": "stream",
     "text": [
      "5\n",
      "1 1 -1 -1 0\n",
      "0.4\n",
      "0.4\n",
      "0.2\n"
     ]
    }
   ],
   "source": [
    "'''\n",
    "question:\n",
    "\n",
    "Given an array of integers, calculate the ratios of its elements that are positive, negative, and zero. \n",
    "Print the decimal value of each fraction on a new line with 6 places after the decimal.\n",
    "\n",
    "'''\n",
    "\n",
    "\n",
    "\n",
    "n = int(input())\n",
    "\n",
    "arr = list(map(int, input().rstrip().split()))\n",
    "\n",
    "\n",
    "\n",
    "a=0\n",
    "b=0\n",
    "c=0\n",
    "for i in range(n):\n",
    "    if arr[i]<0:\n",
    "        a=a+1\n",
    "    if arr[i]>0:\n",
    "        b=b+1\n",
    "    if arr[i]==0:\n",
    "        c=c+1\n",
    "\n",
    "w=a/n\n",
    "y=b/n\n",
    "z=c/n\n",
    "\n",
    "print(y)\n",
    "print(w)\n",
    "print(z)\n"
   ]
  },
  {
   "cell_type": "code",
   "execution_count": null,
   "metadata": {},
   "outputs": [],
   "source": []
  }
 ],
 "metadata": {
  "kernelspec": {
   "display_name": "Python 3",
   "language": "python",
   "name": "python3"
  },
  "language_info": {
   "codemirror_mode": {
    "name": "ipython",
    "version": 3
   },
   "file_extension": ".py",
   "mimetype": "text/x-python",
   "name": "python",
   "nbconvert_exporter": "python",
   "pygments_lexer": "ipython3",
   "version": "3.8.3"
  }
 },
 "nbformat": 4,
 "nbformat_minor": 4
}
